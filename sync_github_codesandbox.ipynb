{
  "nbformat": 4,
  "nbformat_minor": 0,
  "metadata": {
    "colab": {
      "provenance": [],
      "authorship_tag": "ABX9TyNhKLQJOb8ZxMAKNoTPfF6y",
      "include_colab_link": true
    },
    "kernelspec": {
      "name": "python3",
      "display_name": "Python 3"
    },
    "language_info": {
      "name": "python"
    }
  },
  "cells": [
    {
      "cell_type": "markdown",
      "metadata": {
        "id": "view-in-github",
        "colab_type": "text"
      },
      "source": [
        "<a href=\"https://colab.research.google.com/github/LFrakie/colab_codesandbox_git/blob/master/sync_github_codesandbox.ipynb\" target=\"_parent\"><img src=\"https://colab.research.google.com/assets/colab-badge.svg\" alt=\"Open In Colab\"/></a>"
      ]
    },
    {
      "cell_type": "code",
      "execution_count": null,
      "metadata": {
        "id": "DXno7-mqP1Fv"
      },
      "outputs": [],
      "source": [
        "# ffff"
      ]
    },
    {
      "cell_type": "code",
      "source": [
        "!python -m http.server"
      ],
      "metadata": {
        "colab": {
          "base_uri": "https://localhost:8080/"
        },
        "id": "JtopPvMoQwrI",
        "outputId": "378dbab2-882b-402f-fb98-03465110514c"
      },
      "execution_count": null,
      "outputs": [
        {
          "output_type": "stream",
          "name": "stdout",
          "text": [
            "Serving HTTP on 0.0.0.0 port 8000 (http://0.0.0.0:8000/) ...\n",
            "\n",
            "Keyboard interrupt received, exiting.\n",
            "^C\n"
          ]
        }
      ]
    },
    {
      "cell_type": "markdown",
      "source": [
        "# First Title"
      ],
      "metadata": {
        "id": "ZdQRXylxQ6jn"
      }
    },
    {
      "cell_type": "code",
      "source": [],
      "metadata": {
        "id": "_jv_fXcTQ0DH"
      },
      "execution_count": null,
      "outputs": []
    }
  ]
}